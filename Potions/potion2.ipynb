{
  "nbformat": 4,
  "nbformat_minor": 0,
  "metadata": {
    "colab": {
      "name": "potion2.ipynb",
      "provenance": []
    },
    "kernelspec": {
      "name": "python3",
      "display_name": "Python 3"
    }
  },
  "cells": [
    {
      "cell_type": "markdown",
      "metadata": {
        "id": "H4i1rkdOneTr"
      },
      "source": [
        "# Recipe for Potion of Invisibility\n",
        "* bat_wing: 2\n",
        "* alligator_tooth: Multiply bat wing by 6\n",
        "* rose_thorn: Subtract  bat_wing from alligator_tooth\n",
        "* cat_hair: Divide alligator_tooth by bat_wing"
      ]
    },
    {
      "cell_type": "markdown",
      "metadata": {
        "id": "RxfIvpaEnrkF"
      },
      "source": [
        "# Objective:\n",
        "Using add (1+2), subtract (1-2), multiply (1*2) and/or divide (1/2), \n",
        "create the variables called \"rose_thorn\" and \"cat_hair. \n",
        "\n",
        "For each ingredient, make sure the number matches what it says in the recipe"
      ]
    },
    {
      "cell_type": "code",
      "metadata": {
        "id": "Kq1rIB9fnq3N"
      },
      "source": [
        "#Creating variables called \"bat_wing\" and \"alligator_tooth.\"\n",
        "bat_wing = 2\n",
        "alligator_tooth = 6 * bat_wing\n",
        "\n",
        "## Enter code here: \n",
        "rose_thorn = \n",
        "cat_hair = \n",
        "\n",
        "\n",
        "## check to see if your code is correct\n",
        "import run_test as test\n",
        "test.potion2(bat_wing, alligator_tooth, rose_thorn, cat_hair)"
      ],
      "execution_count": null,
      "outputs": []
    }
  ]
}