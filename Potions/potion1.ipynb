{
  "nbformat": 4,
  "nbformat_minor": 0,
  "metadata": {
    "colab": {
      "name": "potion1.ipynb",
      "provenance": []
    },
    "kernelspec": {
      "name": "python3",
      "display_name": "Python 3"
    }
  },
  "cells": [
    {
      "cell_type": "markdown",
      "metadata": {
        "id": "KXU2LNHDlQVs"
      },
      "source": [
        "# Recipe for Potion of Luck\n",
        "* eye_of_newt: 4\n",
        "* salamander_tongue: 2\n",
        "* rabbit_foot: 1"
      ]
    },
    {
      "cell_type": "markdown",
      "metadata": {
        "id": "IfjjMqQclhxQ"
      },
      "source": [
        "#Objective: \n",
        "Create the variables \"rabbit_foot\" and \"salamander_tongue.\" \n",
        "\n",
        "For each ingredient, make sure the number matches what it says in the recipe"
      ]
    },
    {
      "cell_type": "code",
      "metadata": {
        "id": "8_t4gpxTlKPd"
      },
      "source": [
        "#Creating a variable called \"eye_of_newt\" and setting the value to 4\n",
        "eye_of_newt = 4\n",
        "\n",
        "print(eye_of_newt)"
      ],
      "execution_count": null,
      "outputs": []
    },
    {
      "cell_type": "code",
      "metadata": {
        "id": "NGaUaJqhlxT2"
      },
      "source": [
        "## Enter code here: \n",
        "\n",
        "\n",
        "\n",
        "\n",
        "## check to see if your code is correct\n",
        "import run_test as test\n",
        "test.potion1(eye_of_newt, rabbit_foot, salamander_tongue)\n"
      ],
      "execution_count": null,
      "outputs": []
    }
  ]
}