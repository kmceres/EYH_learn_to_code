{
  "nbformat": 4,
  "nbformat_minor": 0,
  "metadata": {
    "colab": {
      "name": "potion3.ipynb",
      "provenance": []
    },
    "kernelspec": {
      "name": "python3",
      "display_name": "Python 3"
    }
  },
  "cells": [
    {
      "cell_type": "markdown",
      "metadata": {
        "id": "I69XaWOBpcs3"
      },
      "source": [
        "# Recipe for Potion of Fire Breathing\n",
        "* fire_slug: Need fire_slug to equal 2\n",
        "* flame_pepper: Need flame_pepper to equal 5\n",
        "* phoenix_tear: Subtract fire_slug from phoenix_tear\n",
        "* dragon_scale: Subtract flame_pepper from dragon_scale"
      ]
    },
    {
      "cell_type": "markdown",
      "metadata": {
        "id": "V7_0RvzCqFWI"
      },
      "source": [
        "# Objective:\n",
        "Without changing the code above, change the variables for \n",
        "\"flame_pepper\", \"phoenix_tear\", and \"dragon_scale\" so they match the recipe\n"
      ]
    },
    {
      "cell_type": "code",
      "metadata": {
        "id": "s_koVoTkpQ1E"
      },
      "source": [
        "# Creating variables for all of your ingredients\n",
        "fire_slug = 20\n",
        "flame_pepper = 20\n",
        "phoenix_tear = 20\n",
        "dragon_scale = 20\n",
        "\n",
        "# Changing fire_slug so it matches the recipe\n",
        "fire_slug = fire_slug - 18 \n",
        "\n",
        "## Enter code here: \n",
        "flame_pepper = \n",
        "phoenix_tear = \n",
        "dragon_scale = \n",
        "\n",
        "\n",
        "## check to see if your code is correct\n",
        "import run_test as test\n",
        "test.potion3(fire_slug, flame_pepper, phoenix_tear, dragon_scale)"
      ],
      "execution_count": null,
      "outputs": []
    }
  ]
}