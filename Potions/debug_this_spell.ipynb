{
  "nbformat": 4,
  "nbformat_minor": 0,
  "metadata": {
    "colab": {
      "name": "debug_this_spell.ipynb",
      "provenance": [],
      "collapsed_sections": [],
      "toc_visible": true
    },
    "kernelspec": {
      "name": "python3",
      "display_name": "Python 3"
    }
  },
  "cells": [
    {
      "cell_type": "markdown",
      "metadata": {
        "id": "CKs-DYQ9MACQ"
      },
      "source": [
        "# What is debugging?\n",
        "Virtually everytime you right code you will make a mistake. One of the most common mistakes you'll make when writing code are typos. Although these mistakes are usually easy to fix, they're sometimes  very tricky to spot! In this module we'll learn how to use our knowledge of python rules, or **syntax** and built in **error messages** to debug our code. "
      ]
    },
    {
      "cell_type": "markdown",
      "metadata": {
        "id": "7uCJo__ROGMA"
      },
      "source": [
        "# Your task: \n",
        "Find and fix the bugs in the following code. Your goal is to produce a potion with the following ingredients:\n",
        "\n",
        "*   5 frog eggs\n",
        "*   3 phoenix feathers\n",
        "*   10 mole whiskers\n",
        "*   1 worm\n",
        "*   3 elderberries\n",
        "*   1 mountain mist\n",
        "\n",
        "\n",
        "\n",
        "\n",
        "\n",
        "If you have completed your task correctly, a magic potion will apperar. "
      ]
    },
    {
      "cell_type": "code",
      "metadata": {
        "id": "aUT6LFhCN5Vd"
      },
      "source": [
        "# find 3 errors in this code:\n",
        "frog_eggs = 5\n",
        "phoenix feathers = 3\n",
        "mole_whiskers = 1\n",
        "worm = 1\n",
        "elderberries = 3\n",
        "mountain_mist = 1\n",
        "\n",
        "\n",
        "cauldron = frog_eggs + phoenix_feathers + mole_whiskers + elderberries + mountain_mist \n",
        "\n",
        "\n",
        "\n",
        "# this code checks if you found the errors\n",
        "import run_test as test\n",
        "test.debug(cauldron)"
      ],
      "execution_count": null,
      "outputs": []
    }
  ]
}